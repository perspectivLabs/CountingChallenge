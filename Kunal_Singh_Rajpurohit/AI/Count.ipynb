{
  "nbformat": 4,
  "nbformat_minor": 0,
  "metadata": {
    "colab": {
      "provenance": []
    },
    "kernelspec": {
      "name": "python3",
      "display_name": "Python 3"
    },
    "language_info": {
      "name": "python"
    }
  },
  "cells": [
    {
      "cell_type": "code",
      "source": [
        "import torch\n",
        "import torchvision\n",
        "from torchvision.transforms import functional as TF\n",
        "import numpy as np\n",
        "import cv2\n",
        "import os\n",
        "from PIL import Image\n",
        "\n",
        "def load_detection_model():\n",
        "    # Load a pre-trained Faster R-CNN model with a ResNet-50 backbone\n",
        "    model = torchvision.models.detection.fasterrcnn_resnet50_fpn(pretrained=True)\n",
        "    model.eval()\n",
        "    return model\n",
        "\n",
        "def analyze_image(model, image_path, output_directory):\n",
        "    # Open and convert the image to RGB\n",
        "    img = Image.open(image_path).convert(\"RGB\")\n",
        "    img_tensor = TF.to_tensor(img).unsqueeze(0)\n",
        "\n",
        "    with torch.no_grad():\n",
        "        results = model(img_tensor)[0]\n",
        "\n",
        "    # Convert PIL image to OpenCV format\n",
        "    img_cv = cv2.cvtColor(np.array(img), cv2.COLOR_RGB2BGR)\n",
        "\n",
        "    # Number of detected objects and masks\n",
        "    num_detected = len(results[\"boxes\"])\n",
        "    num_masks = num_detected  # One mask per bounding box\n",
        "\n",
        "    # Draw bounding boxes and labels on the image\n",
        "    for idx in range(num_detected):\n",
        "        bbox = results[\"boxes\"][idx].cpu().numpy().astype(int)\n",
        "        confidence = results[\"scores\"][idx].item()\n",
        "\n",
        "        if confidence > 0.5:  # Threshold for filtering detections\n",
        "            label = f\"Confidence: {confidence:.2f}\"\n",
        "            cv2.rectangle(img_cv, (bbox[0], bbox[1]), (bbox[2], bbox[3]), (0, 255, 0), 2)\n",
        "            cv2.putText(img_cv, label, (bbox[0], bbox[1] - 10), cv2.FONT_HERSHEY_SIMPLEX, 0.5, (0, 255, 0), 2)\n",
        "\n",
        "    cv2.putText(img_cv, f\"Detected Items: {num_detected}\", (10, 30), cv2.FONT_HERSHEY_SIMPLEX, 1, (0, 255, 255), 2, cv2.LINE_AA)\n",
        "    cv2.putText(img_cv, f\"Masks Available: {num_masks}\", (10, 70), cv2.FONT_HERSHEY_SIMPLEX, 1, (255, 0, 255), 2, cv2.LINE_AA)\n",
        "\n",
        "    # Create output directory if it doesn't exist\n",
        "    if not os.path.exists(output_directory):\n",
        "        os.makedirs(output_directory)\n",
        "\n",
        "    output_file = os.path.join(output_directory, os.path.basename(image_path))\n",
        "    cv2.imwrite(output_file, img_cv)\n",
        "\n",
        "    return num_detected, num_masks\n",
        "\n",
        "def process_images_in_directory(model, input_directory, output_directory):\n",
        "    for file_name in os.listdir(input_directory):\n",
        "        if file_name.lower().endswith(\".jpg\"):\n",
        "            full_path = os.path.join(input_directory, file_name)\n",
        "            detected_items, masks_count = analyze_image(model, full_path, output_directory)\n",
        "            print(f\"File: {file_name} - Detected Items: {detected_items}, Masks Count: {masks_count}\")\n",
        "\n",
        "if __name__ == \"__main__\":\n",
        "    # Initialize the Faster R-CNN model\n",
        "    detection_model = load_detection_model()\n",
        "\n",
        "    screws_and_bolts_path = '/content/drive/MyDrive/ScrewAndBolt_20240713'\n",
        "    screws_and_bolts_output_path = 'cnn_AI_output_ScrewAndBolt'\n",
        "\n",
        "    print(\"Processing Screws and Bolts dataset...\")\n",
        "    process_images_in_directory(detection_model, screws_and_bolts_path, screws_and_bolts_output_path)\n",
        "\n"
      ],
      "metadata": {
        "colab": {
          "base_uri": "https://localhost:8080/"
        },
        "id": "sKBHkPmZLK5m",
        "outputId": "23f620a9-610e-44a2-c81f-69f11d5324da"
      },
      "execution_count": 10,
      "outputs": [
        {
          "output_type": "stream",
          "name": "stdout",
          "text": [
            "Processing Screws and Bolts dataset...\n",
            "File: 20240713_193135.jpg - Detected Items: 12, Masks Count: 12\n",
            "File: 20240713_193650.jpg - Detected Items: 10, Masks Count: 10\n",
            "File: 20240713_193659.jpg - Detected Items: 12, Masks Count: 12\n",
            "File: 20240713_192951.jpg - Detected Items: 13, Masks Count: 13\n",
            "File: 20240713_193831.jpg - Detected Items: 33, Masks Count: 33\n",
            "File: 20240713_193839.jpg - Detected Items: 40, Masks Count: 40\n",
            "File: 20240713_193907.jpg - Detected Items: 100, Masks Count: 100\n",
            "File: 20240713_194200.jpg - Detected Items: 65, Masks Count: 65\n",
            "File: 20240713_194206.jpg - Detected Items: 90, Masks Count: 90\n",
            "File: 20240713_194215.jpg - Detected Items: 66, Masks Count: 66\n",
            "File: 20240713_194232.jpg - Detected Items: 71, Masks Count: 71\n",
            "File: 20240713_194256.jpg - Detected Items: 100, Masks Count: 100\n",
            "File: 20240713_194316.jpg - Detected Items: 96, Masks Count: 96\n",
            "File: 20240713_194541.jpg - Detected Items: 6, Masks Count: 6\n",
            "File: 20240713_194551.jpg - Detected Items: 4, Masks Count: 4\n",
            "File: 20240713_194606.jpg - Detected Items: 3, Masks Count: 3\n",
            "File: 20240713_194621.jpg - Detected Items: 2, Masks Count: 2\n",
            "File: 20240713_194630.jpg - Detected Items: 2, Masks Count: 2\n"
          ]
        }
      ]
    }
  ]
}