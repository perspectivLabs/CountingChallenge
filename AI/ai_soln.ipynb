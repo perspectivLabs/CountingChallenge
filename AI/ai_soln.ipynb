{
  "cells": [
    {
      "cell_type": "code",
      "execution_count": null,
      "metadata": {
        "id": "wABpQydDMgjO"
      },
      "outputs": [],
      "source": [
        "!pip install ultralytics\n"
      ]
    },
    {
      "cell_type": "code",
      "execution_count": null,
      "metadata": {
        "id": "1Zw1UHTXOAxU"
      },
      "outputs": [],
      "source": [
        "!yolo task=detect \\\n",
        "mode=train \\\n",
        "model=yolov8s.pt \\\n",
        "data=/content/drive/MyDrive/custom_data.yaml \\\n",
        "epochs=50 \\\n",
        "imgsz=640"
      ]
    },
    {
      "cell_type": "code",
      "execution_count": null,
      "metadata": {
        "colab": {
          "base_uri": "https://localhost:8080/"
        },
        "id": "AeTBbsdAPFtn",
        "outputId": "1e6d984b-5819-4666-bf4d-d019270c4f5f"
      },
      "outputs": [
        {
          "name": "stdout",
          "output_type": "stream",
          "text": [
            "Ultralytics YOLOv8.2.71 🚀 Python-3.10.12 torch-2.3.1+cu121 CUDA:0 (Tesla T4, 15102MiB)\n",
            "Model summary (fused): 168 layers, 11,126,358 parameters, 0 gradients, 28.4 GFLOPs\n",
            "\n",
            "image 1/1 /content/drive/MyDrive/CountingChallenge/ScrewAndBolt_20240713/20240713_194551.jpg: 640x480 300 nuts, 70.9ms\n",
            "Speed: 3.7ms preprocess, 70.9ms inference, 664.7ms postprocess per image at shape (1, 3, 640, 480)\n",
            "Results saved to \u001b[1mruns/detect/predict4\u001b[0m\n",
            "💡 Learn more at https://docs.ultralytics.com/modes/predict\n"
          ]
        }
      ],
      "source": [
        "!yolo task=detect \\\n",
        "mode=predict \\\n",
        "model=yolov8_screw_nuts.pt \\\n",
        "conf=0.65\\\n",
        "source= image_path\n"
      ]
    }
  ],
  "metadata": {
    "accelerator": "GPU",
    "colab": {
      "gpuType": "T4",
      "provenance": []
    },
    "kernelspec": {
      "display_name": "Python 3",
      "name": "python3"
    },
    "language_info": {
      "name": "python"
    }
  },
  "nbformat": 4,
  "nbformat_minor": 0
}
