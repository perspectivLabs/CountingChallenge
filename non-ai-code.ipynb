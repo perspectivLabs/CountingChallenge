{
 "cells": [
  {
   "cell_type": "markdown",
   "metadata": {},
   "source": [
    "Non AI method to perform counting and masking\n",
    "\n",
    "\n",
    "We utilize a mix of canney edge detection and morphological transforms to enhance the edges in the image. This is folloed by a straight forward contour detection to count the objects [in our case, nuts and bolts]. Utilizing this piepline ensures a much more robust mechanim as each method in the piepline complement each other and address each of their disadvantages.\n",
    "\n",
    "- Canny Edge Detection provides a edge map but may be noisy or fragmented.\n",
    "- Morphological method clean and enhance the edge map to create more reliable contours.\n",
    "- Contour Detection uses the refined edge map to find the boundaries of objects."
   ]
  },
  {
   "cell_type": "markdown",
   "metadata": {},
   "source": [
    "Current pipeline:\n",
    "\n",
    "1. Load the Image:\n",
    "\n",
    "\n",
    "The image is loaded from the specified path using OpenCV's imread function.\n",
    "\n",
    "\n",
    "2. Convert to Grayscale:\n",
    "\n",
    "\n",
    "Converts the image to grayscale to simplify processing. conversion helps in focusing on edges rather than color.\n",
    "\n",
    "3. Apply Gaussian Blur:\n",
    "\n",
    "Applies Gaussian blur to the grayscale image to reduce noise and improve edge detection results. The kernel size controls the extent of the blurring.\n",
    "\n",
    "4. Apply Canny Edge Detection:\n",
    "\n",
    "Uses the Canny edge detector to find edges in the blurred image. The thresholds  are for edge detection, with lower values detecting more edges and higher values detecting fewer edges.\n",
    "\n",
    "5. Apply Morphological Operations:\n",
    "\n",
    "\n",
    "Performs morphological closing operation to close small holes and gaps in the detected edges. The kernel size  defines the structuring element used for the operation.\n",
    "\n",
    "6. Find Contours:\n",
    "\n",
    "\n",
    "Finds contour lines and curves in the morphed edges image.\n",
    "\n",
    "7. Count Objects:\n",
    "\n",
    "Counts the number of detected contours, which corresponds to the number of objects in the image.\n",
    "\n",
    "8. Create a Mask Image:\n",
    "\n",
    "Creates a mask image where detected contours are filled with white. This mask will be used to isolate objects from the original image.\n",
    "\n",
    "9. Apply Mask to the Original Image:\n",
    "\n",
    "\n",
    "Applies the mask to the original image to keep only the regions corresponding to the detected objects.\n",
    "\n",
    "\n",
    "10. Display Results:\n",
    "\n",
    "Displays the original image, edges detected by Canny, morphologically processed edges, and the masked image using matplotlib. Also shows the total number of detected objects. THis is then stored in image format locally.\n",
    "\n",
    "\n",
    "The combination of multiple techniques ensures a robust mechansism with better accuracy. However it is seen that the method sometime fails to count and efficiently mask the screws and bolts precariously near or overlapping each other."
   ]
  },
  {
   "cell_type": "code",
   "execution_count": null,
   "metadata": {},
   "outputs": [
    {
     "ename": "",
     "evalue": "",
     "output_type": "error",
     "traceback": [
      "\u001b[1;31mRunning cells with 'cgpt (Python 3.12.4)' requires the ipykernel package.\n",
      "\u001b[1;31mRun the following command to install 'ipykernel' into the Python environment. \n",
      "\u001b[1;31mCommand: 'conda install -n cgpt ipykernel --update-deps --force-reinstall'"
     ]
    }
   ],
   "source": [
    "#import all libraries\n",
    "import cv2\n",
    "import numpy as np\n",
    "from matplotlib import pyplot as plt"
   ]
  },
  {
   "cell_type": "code",
   "execution_count": null,
   "metadata": {},
   "outputs": [],
   "source": [
    "# Load the image using openCV method\n",
    "image_path = 'C:/Users/karth/Downloads/33.jpg'\n",
    "image = cv2.imread(image_path)"
   ]
  },
  {
   "cell_type": "code",
   "execution_count": null,
   "metadata": {},
   "outputs": [],
   "source": [
    "# Convert to grayscale for better edge detection\n",
    "gray = cv2.cvtColor(image, cv2.COLOR_BGR2GRAY)"
   ]
  },
  {
   "cell_type": "code",
   "execution_count": null,
   "metadata": {},
   "outputs": [],
   "source": [
    "# Apply Gaussian blur to reduce noise and aid in improving edge detection\n",
    "blurred = cv2.GaussianBlur(gray, (5, 5), 0)"
   ]
  },
  {
   "cell_type": "code",
   "execution_count": null,
   "metadata": {},
   "outputs": [],
   "source": [
    "# Apply Canny edge detection to detect edges\n",
    "edges = cv2.Canny(blurred, 50, 150)"
   ]
  },
  {
   "cell_type": "code",
   "execution_count": null,
   "metadata": {},
   "outputs": [],
   "source": [
    "# Apply morphological operations to enhance the edges by closing in small gaps and discrepancies\n",
    "kernel = np.ones((3, 3), np.uint8)\n",
    "morphed_edges = cv2.morphologyEx(edges, cv2.MORPH_CLOSE, kernel, iterations=2)"
   ]
  },
  {
   "cell_type": "code",
   "execution_count": null,
   "metadata": {},
   "outputs": [],
   "source": [
    "# Find contour lines and curves\n",
    "contours, _ = cv2.findContours(morphed_edges, cv2.RETR_EXTERNAL, cv2.CHAIN_APPROX_SIMPLE)"
   ]
  },
  {
   "cell_type": "code",
   "execution_count": null,
   "metadata": {},
   "outputs": [],
   "source": [
    "# Count objects. The number of continous contours indicate the number of objects\n",
    "num_objects = len(contours)"
   ]
  },
  {
   "cell_type": "code",
   "execution_count": null,
   "metadata": {},
   "outputs": [],
   "source": [
    "# creating a mask image and filliing it with green colour to enhance observability\n",
    "# Create a mask image\n",
    "mask = np.zeros_like(image)\n",
    "\n",
    "# Fill the mask with green color where contours are present\n",
    "cv2.drawContours(mask, contours, -1, (0, 255, 0), thickness=cv2.FILLED)"
   ]
  },
  {
   "cell_type": "code",
   "execution_count": null,
   "metadata": {},
   "outputs": [],
   "source": [
    "\n",
    "# Apply mask to the original image to generate mask image based on earlier setup\n",
    "masked_image = cv2.bitwise_and(image, mask)"
   ]
  },
  {
   "cell_type": "code",
   "execution_count": null,
   "metadata": {},
   "outputs": [],
   "source": [
    "# Display results using matplotlib and store as image\n",
    "plt.figure(figsize=(15, 10))\n",
    "\n",
    "plt.subplot(2, 2, 1)\n",
    "plt.title('Original Image')\n",
    "plt.imshow(cv2.cvtColor(image, cv2.COLOR_BGR2RGB))\n",
    "\n",
    "plt.subplot(2, 2, 2)\n",
    "plt.title('Edges Detected by Canny')\n",
    "plt.imshow(edges, cmap='gray')\n",
    "\n",
    "plt.subplot(2, 2, 3)\n",
    "plt.title('Morphological Operations on Edges')\n",
    "plt.imshow(morphed_edges, cmap='gray')\n",
    "\n",
    "plt.subplot(2, 2, 4)\n",
    "plt.title('Masked Image')\n",
    "plt.imshow(cv2.cvtColor(masked_image, cv2.COLOR_BGR2RGB))\n",
    "\n",
    "plt.suptitle(f'Number of objects: {num_objects}', fontsize=16)\n",
    "plt.show()\n",
    "plt.savefig('results_image.png')"
   ]
  }
 ],
 "metadata": {
  "kernelspec": {
   "display_name": "Python 3",
   "language": "python",
   "name": "python3"
  },
  "language_info": {
   "codemirror_mode": {
    "name": "ipython",
    "version": 3
   },
   "file_extension": ".py",
   "mimetype": "text/x-python",
   "name": "python",
   "nbconvert_exporter": "python",
   "pygments_lexer": "ipython3",
   "version": "3.12.4"
  }
 },
 "nbformat": 4,
 "nbformat_minor": 2
}
