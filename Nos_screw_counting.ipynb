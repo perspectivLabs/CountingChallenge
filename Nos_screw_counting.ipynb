{
  "nbformat": 4,
  "nbformat_minor": 0,
  "metadata": {
    "colab": {
      "private_outputs": true,
      "provenance": []
    },
    "kernelspec": {
      "name": "python3",
      "display_name": "Python 3"
    },
    "language_info": {
      "name": "python"
    }
  },
  "cells": [
    {
      "cell_type": "code",
      "execution_count": null,
      "metadata": {
        "id": "rXAvhHFME-rm"
      },
      "outputs": [],
      "source": [
        "\n",
        "# Import libraries\n",
        "import cv2\n",
        "import numpy as np\n",
        "import matplotlib.pyplot as plt\n"
      ]
    },
    {
      "cell_type": "code",
      "source": [
        "\n",
        "#image = cv2.imread('img1.jpg')\n",
        "#image = cv2.imread('img1_43_nosy.jpg')\n",
        "#image = cv2.imread('img.jpg')\n",
        "#image = cv2.imread('img3.jpg')\n",
        "#image = cv2.imread('img14.jpg')\n",
        "#image = cv2.imread('img5.jpg')\n",
        "#image = cv2.imread('img6.jpg')\n",
        "#image = cv2.imread('1.jpg')\n",
        "#image = cv2.imread('2.jpg')\n",
        "#image = cv2.imread('3.jpg')\n",
        "#image = cv2.imread('4.jpg')\n",
        "#image = cv2.imread('6.jpg')\n",
        "#image = cv2.imread('5.jpg')\n",
        "#image = cv2.imread('7.jpg')\n",
        "#image = cv2.imread('8.jpg')\n",
        "#image = cv2.imread('9.jpg')\n",
        "#image = cv2.imread('10.jpg')\n",
        "#image = cv2.imread('11.jpg')\n",
        "#image = cv2.imread('12.jpg')\n",
        "#image = cv2.imread('13.jpg')\n",
        "#image = cv2.imread('14.jpg')\n",
        "#image = cv2.imread('15.jpg')\n",
        "image = cv2.imread('16.jpg')\n",
        "\n",
        "gray = cv2.cvtColor(image, cv2.COLOR_BGR2GRAY)\n",
        "plt.imshow(gray, cmap='gray')\n"
      ],
      "metadata": {
        "id": "1KbgzCliFM0z"
      },
      "execution_count": null,
      "outputs": []
    },
    {
      "cell_type": "code",
      "source": [
        "blur = cv2.GaussianBlur(gray, (11, 11), 0)\n",
        "canny = cv2.Canny(blur, 30, 150, 3)\n",
        "dilated = cv2.dilate(canny, (1, 1), iterations=0)"
      ],
      "metadata": {
        "id": "gGi0YPgDFNBu"
      },
      "execution_count": null,
      "outputs": []
    },
    {
      "cell_type": "code",
      "source": [
        "(cnt, hierarchy) = cv2.findContours(\n",
        "    dilated.copy(), cv2.RETR_EXTERNAL, cv2.CHAIN_APPROX_NONE)\n",
        "rgb = cv2.cvtColor(image, cv2.COLOR_BGR2RGB)\n",
        "cv2.drawContours(rgb, cnt, -1, (0, 255, 0), 2)"
      ],
      "metadata": {
        "id": "PKhtzp6HI8Ke"
      },
      "execution_count": null,
      "outputs": []
    },
    {
      "cell_type": "code",
      "source": [
        "\n",
        "\n",
        "print(\"screw Nots in the image total Nos : \", len(cnt))\n"
      ],
      "metadata": {
        "id": "Z5uTzBpaHu-s"
      },
      "execution_count": null,
      "outputs": []
    },
    {
      "cell_type": "code",
      "source": [
        "\n"
      ],
      "metadata": {
        "id": "Jkd53r23H3nl"
      },
      "execution_count": null,
      "outputs": []
    },
    {
      "cell_type": "code",
      "source": [
        "# genai base image count generator\n",
        "\n",
        "def count_objects(image_path):\n",
        "  image = cv2.imread(image_path)\n",
        "  gray = cv2.cvtColor(image, cv2.COLOR_BGR2GRAY)\n",
        "  blur = cv2.GaussianBlur(gray, (11, 11), 0)\n",
        "  canny = cv2.Canny(blur, 30, 150, 3)\n",
        "  dilated = cv2.dilate(canny, (1, 1), iterations=0)\n",
        "  (cnt, hierarchy) = cv2.findContours(\n",
        "      dilated.copy(), cv2.RETR_EXTERNAL, cv2.CHAIN_APPROX_NONE)\n",
        "  return len(cnt)\n",
        "\n",
        "# Example usage\n",
        "image_path = '16.jpg'  # Replace with your image path\n",
        "count = count_objects(image_path)\n",
        "print(\"Number of objects in the image:\", count)\n"
      ],
      "metadata": {
        "id": "Ord4NxgWHv6v"
      },
      "execution_count": null,
      "outputs": []
    },
    {
      "cell_type": "code",
      "source": [
        "# prompt: genai base image count generator one by by  setup image\n",
        "\n",
        "import cv2\n",
        "import numpy as np\n",
        "import matplotlib.pyplot as plt\n",
        "\n",
        "def count_objects(image_path):\n",
        "  image = cv2.imread(image_path)\n",
        "  gray = cv2.cvtColor(image, cv2.COLOR_BGR2GRAY)\n",
        "  blur = cv2.GaussianBlur(gray, (11, 11), 0)\n",
        "  canny = cv2.Canny(blur, 30, 150, 3)\n",
        "  dilated = cv2.dilate(canny, (1, 1), iterations=0)\n",
        "  (cnt, hierarchy) = cv2.findContours(\n",
        "      dilated.copy(), cv2.RETR_EXTERNAL, cv2.CHAIN_APPROX_NONE)\n",
        "  return len(cnt)\n",
        "\n",
        "# Directory containing images\n",
        "image_dir = '.'  # Replace with the actual directory\n",
        "\n",
        "import os\n",
        "for filename in os.listdir(image_dir):\n",
        "  if filename.endswith('.jpg') or filename.endswith('.png'):  # Adjust file extensions as needed\n",
        "    image_path = os.path.join(image_dir, filename)\n",
        "    count = count_objects(image_path)\n",
        "    print(f\"Number of objects in {filename}: {count}\")\n"
      ],
      "metadata": {
        "id": "yMtPWu4dXA-N"
      },
      "execution_count": null,
      "outputs": []
    }
  ]
}