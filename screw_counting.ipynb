{
  "nbformat": 4,
  "nbformat_minor": 0,
  "metadata": {
    "colab": {
      "private_outputs": true,
      "provenance": []
    },
    "kernelspec": {
      "name": "python3",
      "display_name": "Python 3"
    },
    "language_info": {
      "name": "python"
    }
  },
  "cells": [
    {
      "cell_type": "code",
      "execution_count": null,
      "metadata": {
        "id": "rXAvhHFME-rm"
      },
      "outputs": [],
      "source": [
        "\n",
        "# Import libraries\n",
        "import cv2\n",
        "import numpy as np\n",
        "import matplotlib.pyplot as plt\n"
      ]
    },
    {
      "cell_type": "code",
      "source": [
        "\n",
        "\n",
        "#image = cv2.imread('img1.jpg')\n",
        "#image = cv2.imread('img1_43_nosy.jpg')\n",
        "#image = cv2.imread('img.jpg')\n",
        "#image = cv2.imread('img3.jpg')\n",
        "#image = cv2.imread('img14.jpg')\n",
        "#image = cv2.imread('img5.jpg')\n",
        "image = cv2.imread('img6.jpg')\n",
        "\n",
        "gray = cv2.cvtColor(image, cv2.COLOR_BGR2GRAY)\n",
        "plt.imshow(gray, cmap='gray')\n"
      ],
      "metadata": {
        "id": "1KbgzCliFM0z"
      },
      "execution_count": null,
      "outputs": []
    },
    {
      "cell_type": "code",
      "source": [
        "blur = cv2.GaussianBlur(gray, (11, 11), 0)\n",
        "canny = cv2.Canny(blur, 30, 150, 3)\n",
        "dilated = cv2.dilate(canny, (1, 1), iterations=0)"
      ],
      "metadata": {
        "id": "gGi0YPgDFNBu"
      },
      "execution_count": null,
      "outputs": []
    },
    {
      "cell_type": "code",
      "source": [
        "(cnt, hierarchy) = cv2.findContours(\n",
        "    dilated.copy(), cv2.RETR_EXTERNAL, cv2.CHAIN_APPROX_NONE)\n",
        "rgb = cv2.cvtColor(image, cv2.COLOR_BGR2RGB)\n",
        "cv2.drawContours(rgb, cnt, -1, (0, 255, 0), 2)"
      ],
      "metadata": {
        "id": "PKhtzp6HI8Ke"
      },
      "execution_count": null,
      "outputs": []
    },
    {
      "cell_type": "code",
      "source": [
        "#print(\"stone in the image : \", len(cnt))\n",
        "print(\"screw in the image : \", len(cnt))\n"
      ],
      "metadata": {
        "id": "Z5uTzBpaHu-s"
      },
      "execution_count": null,
      "outputs": []
    },
    {
      "cell_type": "code",
      "source": [
        "\n"
      ],
      "metadata": {
        "id": "lUn1-4g9Hv1L"
      },
      "execution_count": null,
      "outputs": []
    },
    {
      "cell_type": "code",
      "source": [
        "\n"
      ],
      "metadata": {
        "id": "Jkd53r23H3nl"
      },
      "execution_count": null,
      "outputs": []
    },
    {
      "cell_type": "code",
      "source": [],
      "metadata": {
        "id": "Ord4NxgWHv6v"
      },
      "execution_count": null,
      "outputs": []
    }
  ]
}