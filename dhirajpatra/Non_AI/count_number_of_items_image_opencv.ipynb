{
  "nbformat": 4,
  "nbformat_minor": 0,
  "metadata": {
    "colab": {
      "provenance": []
    },
    "kernelspec": {
      "name": "python3",
      "display_name": "Python 3"
    },
    "language_info": {
      "name": "python"
    }
  },
  "cells": [
    {
      "cell_type": "code",
      "execution_count": 15,
      "metadata": {
        "id": "DGFN2v6CcqCH"
      },
      "outputs": [],
      "source": [
        "# required lib\n",
        "\n",
        "import cv2\n",
        "import numpy as np\n",
        "import zipfile\n",
        "import os\n",
        "\n",
        "from google.colab.patches import cv2_imshow\n",
        "from google.colab import files\n"
      ]
    },
    {
      "cell_type": "code",
      "source": [
        "!pip install matplotlib\n",
        "import matplotlib.pyplot as plt\n"
      ],
      "metadata": {
        "colab": {
          "base_uri": "https://localhost:8080/"
        },
        "id": "evL8P5qf00ta",
        "outputId": "9be99e58-2dc8-4c3f-b811-7fc3d634e289"
      },
      "execution_count": 16,
      "outputs": [
        {
          "output_type": "stream",
          "name": "stdout",
          "text": [
            "Requirement already satisfied: matplotlib in /usr/local/lib/python3.10/dist-packages (3.7.1)\n",
            "Requirement already satisfied: contourpy>=1.0.1 in /usr/local/lib/python3.10/dist-packages (from matplotlib) (1.2.1)\n",
            "Requirement already satisfied: cycler>=0.10 in /usr/local/lib/python3.10/dist-packages (from matplotlib) (0.12.1)\n",
            "Requirement already satisfied: fonttools>=4.22.0 in /usr/local/lib/python3.10/dist-packages (from matplotlib) (4.53.1)\n",
            "Requirement already satisfied: kiwisolver>=1.0.1 in /usr/local/lib/python3.10/dist-packages (from matplotlib) (1.4.5)\n",
            "Requirement already satisfied: numpy>=1.20 in /usr/local/lib/python3.10/dist-packages (from matplotlib) (1.26.4)\n",
            "Requirement already satisfied: packaging>=20.0 in /usr/local/lib/python3.10/dist-packages (from matplotlib) (24.1)\n",
            "Requirement already satisfied: pillow>=6.2.0 in /usr/local/lib/python3.10/dist-packages (from matplotlib) (9.4.0)\n",
            "Requirement already satisfied: pyparsing>=2.3.1 in /usr/local/lib/python3.10/dist-packages (from matplotlib) (3.1.2)\n",
            "Requirement already satisfied: python-dateutil>=2.7 in /usr/local/lib/python3.10/dist-packages (from matplotlib) (2.8.2)\n",
            "Requirement already satisfied: six>=1.5 in /usr/local/lib/python3.10/dist-packages (from python-dateutil>=2.7->matplotlib) (1.16.0)\n"
          ]
        }
      ]
    },
    {
      "cell_type": "code",
      "source": [
        "# unzipp the dataset\n",
        "\n",
        "# screw_and_bolt = \"/content/ScrewAndBolt.zip\"\n",
        "# with zipfile.ZipFile(screw_and_bolt, 'r') as zip_ref:\n",
        "#     zip_ref.extractall('/content/screw_and_bolt')\n",
        "\n",
        "# screw = \"/content/Screws.zip\"\n",
        "# with zipfile.ZipFile(screws, 'r') as zip_ref:\n",
        "#     zip_ref.extractall('/content/screws')"
      ],
      "metadata": {
        "id": "oKAfItt7stHD"
      },
      "execution_count": 6,
      "outputs": []
    },
    {
      "cell_type": "code",
      "source": [
        "def count_and_mask_objects(image_path):\n",
        "    \"\"\"\n",
        "    Counts the number of objects in an image and overlays masks for each.\n",
        "\n",
        "    Args:\n",
        "        image_path (str): Path to the input image.\n",
        "\n",
        "    Returns:\n",
        "        int: Number of detected objects.\n",
        "    \"\"\"\n",
        "\n",
        "    img = cv2.imread(image_path)\n",
        "    gray = cv2.cvtColor(img, cv2.COLOR_BGR2GRAY)\n",
        "\n",
        "    # Preprocess the image (adjust as needed)\n",
        "    blurred = cv2.GaussianBlur(gray, (5, 5), 0)\n",
        "    thresh = cv2.threshold(blurred, 127, 255, cv2.THRESH_BINARY_INV)[1]\n",
        "\n",
        "    # Find contours\n",
        "    contours, _ = cv2.findContours(thresh, cv2.RETR_EXTERNAL, cv2.CHAIN_APPROX_SIMPLE)\n",
        "\n",
        "    # Create a copy of the original image for overlaying masks\n",
        "    img_with_masks = img.copy()\n",
        "\n",
        "    object_count = 0\n",
        "    for cnt in contours:\n",
        "        # Calculate contour area to filter out noise\n",
        "        area = cv2.contourArea(cnt)\n",
        "        if area > 100:  # Adjust threshold as needed\n",
        "            object_count += 1\n",
        "\n",
        "            # Create a mask for the current object\n",
        "            mask = np.zeros_like(img)\n",
        "            cv2.drawContours(mask, [cnt], 0, (255, 255, 255), -1)\n",
        "\n",
        "            # Overlay the mask on the original image\n",
        "            img_with_masks = cv2.addWeighted(img_with_masks, 0.7, mask, 0.3, 0)\n",
        "\n",
        "    # cv2_imshow(img)\n",
        "    # cv2_imshow(img_with_masks)\n",
        "    # cv2.waitKey(0)\n",
        "    # cv2.destroyAllWindows()\n",
        "\n",
        "    return object_count\n"
      ],
      "metadata": {
        "id": "tadWjVpGslzA"
      },
      "execution_count": 23,
      "outputs": []
    },
    {
      "cell_type": "code",
      "source": [
        "def process_images(image_dir):\n",
        "  for filename in os.listdir(image_dir):\n",
        "    if filename.endswith(\".jpg\") or filename.endswith(\".png\"):  # Adjust for your image format\n",
        "      image_path = os.path.join(image_dir, filename)\n",
        "      num_objects = count_and_mask_objects(image_path)\n",
        "      print(\"Number of objects in\", image_path, \":\", num_objects)"
      ],
      "metadata": {
        "id": "Gpinlsb9ygpB"
      },
      "execution_count": 24,
      "outputs": []
    },
    {
      "cell_type": "code",
      "source": [
        "# do the process now\n",
        "\n",
        "image_screws = \"/content/data/screws/\"\n",
        "image_screw_and_bolt = \"/content/data/screw_and_bolt/\"\n",
        "\n",
        "process_images(image_screws)\n",
        "process_images(image_screw_and_bolt)"
      ],
      "metadata": {
        "colab": {
          "base_uri": "https://localhost:8080/"
        },
        "id": "a5RnUY3eyhD6",
        "outputId": "5b0bdc0b-87e4-414b-e17c-b268bb8c9fdf"
      },
      "execution_count": 25,
      "outputs": [
        {
          "output_type": "stream",
          "name": "stdout",
          "text": [
            "Number of objects in /content/data/screws/20240713_194256.jpg : 63\n",
            "Number of objects in /content/data/screws/20240713_193907.jpg : 102\n",
            "Number of objects in /content/data/screws/20240713_194606.jpg : 61\n",
            "Number of objects in /content/data/screws/20240713_194541.jpg : 43\n",
            "Number of objects in /content/data/screws/20240713_194621.jpg : 85\n",
            "Number of objects in /content/data/screws/20240713_193831.jpg : 93\n",
            "Number of objects in /content/data/screws/20240713_193650.jpg : 5\n",
            "Number of objects in /content/data/screws/20240713_194630.jpg : 106\n",
            "Number of objects in /content/data/screws/20240713_192951.jpg : 17\n",
            "Number of objects in /content/data/screws/20240713_194200.jpg : 51\n",
            "Number of objects in /content/data/screws/20240713_194316.jpg : 72\n",
            "Number of objects in /content/data/screws/20240713_194215.jpg : 67\n",
            "Number of objects in /content/data/screws/20240713_193135.jpg : 11\n",
            "Number of objects in /content/data/screws/20240713_194551.jpg : 42\n",
            "Number of objects in /content/data/screws/20240713_193839.jpg : 92\n",
            "Number of objects in /content/data/screws/20240713_194232.jpg : 72\n",
            "Number of objects in /content/data/screws/20240713_194206.jpg : 54\n",
            "Number of objects in /content/data/screws/20240713_193659.jpg : 7\n",
            "Number of objects in /content/data/screw_and_bolt/20240713_194256.jpg : 63\n",
            "Number of objects in /content/data/screw_and_bolt/20240713_193907.jpg : 102\n",
            "Number of objects in /content/data/screw_and_bolt/20240713_194606.jpg : 61\n",
            "Number of objects in /content/data/screw_and_bolt/20240713_194541.jpg : 43\n",
            "Number of objects in /content/data/screw_and_bolt/20240713_194621.jpg : 85\n",
            "Number of objects in /content/data/screw_and_bolt/20240713_193831.jpg : 93\n",
            "Number of objects in /content/data/screw_and_bolt/20240713_193650.jpg : 5\n",
            "Number of objects in /content/data/screw_and_bolt/20240713_194630.jpg : 106\n",
            "Number of objects in /content/data/screw_and_bolt/20240713_192951.jpg : 17\n",
            "Number of objects in /content/data/screw_and_bolt/20240713_194200.jpg : 51\n",
            "Number of objects in /content/data/screw_and_bolt/20240713_194316.jpg : 72\n",
            "Number of objects in /content/data/screw_and_bolt/20240713_194215.jpg : 67\n",
            "Number of objects in /content/data/screw_and_bolt/20240713_193135.jpg : 11\n",
            "Number of objects in /content/data/screw_and_bolt/20240713_194551.jpg : 42\n",
            "Number of objects in /content/data/screw_and_bolt/20240713_193839.jpg : 92\n",
            "Number of objects in /content/data/screw_and_bolt/20240713_194232.jpg : 72\n",
            "Number of objects in /content/data/screw_and_bolt/20240713_194206.jpg : 54\n",
            "Number of objects in /content/data/screw_and_bolt/20240713_193659.jpg : 7\n"
          ]
        }
      ]
    },
    {
      "cell_type": "code",
      "source": [],
      "metadata": {
        "id": "EF8CECrDzT20"
      },
      "execution_count": null,
      "outputs": []
    }
  ]
}